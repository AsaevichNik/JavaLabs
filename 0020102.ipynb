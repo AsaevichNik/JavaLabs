{
  "nbformat": 4,
  "nbformat_minor": 0,
  "metadata": {
    "colab": {
      "provenance": [],
      "toc_visible": true,
      "authorship_tag": "ABX9TyNihnVY73hVQsIkHKmMrHJu",
      "include_colab_link": true
    },
    "kernelspec": {
      "name": "python3",
      "display_name": "Python 3"
    },
    "language_info": {
      "name": "python"
    }
  },
  "cells": [
    {
      "cell_type": "markdown",
      "metadata": {
        "id": "view-in-github",
        "colab_type": "text"
      },
      "source": [
        "<a href=\"https://colab.research.google.com/github/AsaevichNik/JavaLabs/blob/MachineLearning/0020102.ipynb\" target=\"_parent\"><img src=\"https://colab.research.google.com/assets/colab-badge.svg\" alt=\"Open In Colab\"/></a>"
      ]
    },
    {
      "cell_type": "markdown",
      "source": [
        "<font size = 6>\n",
        "Отбор данных одномерной выборки\n"
      ],
      "metadata": {
        "id": "X8jsGbWJ_8cR"
      }
    },
    {
      "cell_type": "markdown",
      "source": [
        "Выполнил: Асаевич Н.С ММБ-002"
      ],
      "metadata": {
        "id": "GS3DhHtXHIMv"
      }
    },
    {
      "cell_type": "markdown",
      "source": [
        "Цель работы - очистка данных одномерной выборки, т.е поиск и удаление аномальных значений"
      ],
      "metadata": {
        "id": "m3UasQh6Aics"
      }
    },
    {
      "cell_type": "markdown",
      "source": [],
      "metadata": {
        "id": "Ad1qipeVHIlk"
      }
    },
    {
      "cell_type": "markdown",
      "source": [
        "# Введение\n",
        "\n"
      ],
      "metadata": {
        "id": "Caj9TeWgCJ7B"
      }
    },
    {
      "cell_type": "markdown",
      "source": [
        "Подключаем библиотеки pandas, matplotlib.pyplot, numpy, stats:"
      ],
      "metadata": {
        "id": "5H3xKFeFBHrQ"
      }
    },
    {
      "cell_type": "code",
      "execution_count": null,
      "metadata": {
        "id": "s1fJ-GBbKbBt"
      },
      "outputs": [],
      "source": [
        "import pandas as pd\n",
        "import matplotlib.pyplot as plt\n",
        "import numpy as np\n",
        "import scipy.stats as stats"
      ]
    },
    {
      "cell_type": "markdown",
      "source": [
        "Ограничим вывод на печать размер таблиц: количество столбцов не более 9, количество строк - не более 5"
      ],
      "metadata": {
        "id": "-O-LJJWdTIb7"
      }
    },
    {
      "cell_type": "code",
      "source": [
        "pd.set_option('max_columns', 9)\n",
        "pd.set_option('max_rows', 5)"
      ],
      "metadata": {
        "id": "SGg7NNIOS6by",
        "colab": {
          "base_uri": "https://localhost:8080/",
          "height": 328
        },
        "outputId": "da6e3857-72a2-4e74-c984-7dc6b02aba89"
      },
      "execution_count": 11,
      "outputs": [
        {
          "output_type": "error",
          "ename": "OptionError",
          "evalue": "ignored",
          "traceback": [
            "\u001b[0;31m---------------------------------------------------------------------------\u001b[0m",
            "\u001b[0;31mOptionError\u001b[0m                               Traceback (most recent call last)",
            "\u001b[0;32m<ipython-input-11-17309436e0b9>\u001b[0m in \u001b[0;36m<module>\u001b[0;34m\u001b[0m\n\u001b[0;32m----> 1\u001b[0;31m \u001b[0mpd\u001b[0m\u001b[0;34m.\u001b[0m\u001b[0mset_option\u001b[0m\u001b[0;34m(\u001b[0m\u001b[0;34m'max_columns'\u001b[0m\u001b[0;34m,\u001b[0m \u001b[0;36m9\u001b[0m\u001b[0;34m)\u001b[0m\u001b[0;34m\u001b[0m\u001b[0;34m\u001b[0m\u001b[0m\n\u001b[0m\u001b[1;32m      2\u001b[0m \u001b[0mpd\u001b[0m\u001b[0;34m.\u001b[0m\u001b[0mset_option\u001b[0m\u001b[0;34m(\u001b[0m\u001b[0;34m'max_rows'\u001b[0m\u001b[0;34m,\u001b[0m \u001b[0;36m5\u001b[0m\u001b[0;34m)\u001b[0m\u001b[0;34m\u001b[0m\u001b[0;34m\u001b[0m\u001b[0m\n",
            "\u001b[0;32m/usr/local/lib/python3.9/dist-packages/pandas/_config/config.py\u001b[0m in \u001b[0;36m__call__\u001b[0;34m(self, *args, **kwds)\u001b[0m\n\u001b[1;32m    254\u001b[0m \u001b[0;34m\u001b[0m\u001b[0m\n\u001b[1;32m    255\u001b[0m     \u001b[0;32mdef\u001b[0m \u001b[0m__call__\u001b[0m\u001b[0;34m(\u001b[0m\u001b[0mself\u001b[0m\u001b[0;34m,\u001b[0m \u001b[0;34m*\u001b[0m\u001b[0margs\u001b[0m\u001b[0;34m,\u001b[0m \u001b[0;34m**\u001b[0m\u001b[0mkwds\u001b[0m\u001b[0;34m)\u001b[0m\u001b[0;34m:\u001b[0m\u001b[0;34m\u001b[0m\u001b[0;34m\u001b[0m\u001b[0m\n\u001b[0;32m--> 256\u001b[0;31m         \u001b[0;32mreturn\u001b[0m \u001b[0mself\u001b[0m\u001b[0;34m.\u001b[0m\u001b[0m__func__\u001b[0m\u001b[0;34m(\u001b[0m\u001b[0;34m*\u001b[0m\u001b[0margs\u001b[0m\u001b[0;34m,\u001b[0m \u001b[0;34m**\u001b[0m\u001b[0mkwds\u001b[0m\u001b[0;34m)\u001b[0m\u001b[0;34m\u001b[0m\u001b[0;34m\u001b[0m\u001b[0m\n\u001b[0m\u001b[1;32m    257\u001b[0m \u001b[0;34m\u001b[0m\u001b[0m\n\u001b[1;32m    258\u001b[0m     \u001b[0;34m@\u001b[0m\u001b[0mproperty\u001b[0m\u001b[0;34m\u001b[0m\u001b[0;34m\u001b[0m\u001b[0m\n",
            "\u001b[0;32m/usr/local/lib/python3.9/dist-packages/pandas/_config/config.py\u001b[0m in \u001b[0;36m_set_option\u001b[0;34m(*args, **kwargs)\u001b[0m\n\u001b[1;32m    147\u001b[0m \u001b[0;34m\u001b[0m\u001b[0m\n\u001b[1;32m    148\u001b[0m     \u001b[0;32mfor\u001b[0m \u001b[0mk\u001b[0m\u001b[0;34m,\u001b[0m \u001b[0mv\u001b[0m \u001b[0;32min\u001b[0m \u001b[0mzip\u001b[0m\u001b[0;34m(\u001b[0m\u001b[0margs\u001b[0m\u001b[0;34m[\u001b[0m\u001b[0;34m:\u001b[0m\u001b[0;34m:\u001b[0m\u001b[0;36m2\u001b[0m\u001b[0;34m]\u001b[0m\u001b[0;34m,\u001b[0m \u001b[0margs\u001b[0m\u001b[0;34m[\u001b[0m\u001b[0;36m1\u001b[0m\u001b[0;34m:\u001b[0m\u001b[0;34m:\u001b[0m\u001b[0;36m2\u001b[0m\u001b[0;34m]\u001b[0m\u001b[0;34m)\u001b[0m\u001b[0;34m:\u001b[0m\u001b[0;34m\u001b[0m\u001b[0;34m\u001b[0m\u001b[0m\n\u001b[0;32m--> 149\u001b[0;31m         \u001b[0mkey\u001b[0m \u001b[0;34m=\u001b[0m \u001b[0m_get_single_key\u001b[0m\u001b[0;34m(\u001b[0m\u001b[0mk\u001b[0m\u001b[0;34m,\u001b[0m \u001b[0msilent\u001b[0m\u001b[0;34m)\u001b[0m\u001b[0;34m\u001b[0m\u001b[0;34m\u001b[0m\u001b[0m\n\u001b[0m\u001b[1;32m    150\u001b[0m \u001b[0;34m\u001b[0m\u001b[0m\n\u001b[1;32m    151\u001b[0m         \u001b[0mo\u001b[0m \u001b[0;34m=\u001b[0m \u001b[0m_get_registered_option\u001b[0m\u001b[0;34m(\u001b[0m\u001b[0mkey\u001b[0m\u001b[0;34m)\u001b[0m\u001b[0;34m\u001b[0m\u001b[0;34m\u001b[0m\u001b[0m\n",
            "\u001b[0;32m/usr/local/lib/python3.9/dist-packages/pandas/_config/config.py\u001b[0m in \u001b[0;36m_get_single_key\u001b[0;34m(pat, silent)\u001b[0m\n\u001b[1;32m    114\u001b[0m         \u001b[0;32mraise\u001b[0m \u001b[0mOptionError\u001b[0m\u001b[0;34m(\u001b[0m\u001b[0;34mf\"No such keys(s): {repr(pat)}\"\u001b[0m\u001b[0;34m)\u001b[0m\u001b[0;34m\u001b[0m\u001b[0;34m\u001b[0m\u001b[0m\n\u001b[1;32m    115\u001b[0m     \u001b[0;32mif\u001b[0m \u001b[0mlen\u001b[0m\u001b[0;34m(\u001b[0m\u001b[0mkeys\u001b[0m\u001b[0;34m)\u001b[0m \u001b[0;34m>\u001b[0m \u001b[0;36m1\u001b[0m\u001b[0;34m:\u001b[0m\u001b[0;34m\u001b[0m\u001b[0;34m\u001b[0m\u001b[0m\n\u001b[0;32m--> 116\u001b[0;31m         \u001b[0;32mraise\u001b[0m \u001b[0mOptionError\u001b[0m\u001b[0;34m(\u001b[0m\u001b[0;34m\"Pattern matched multiple keys\"\u001b[0m\u001b[0;34m)\u001b[0m\u001b[0;34m\u001b[0m\u001b[0;34m\u001b[0m\u001b[0m\n\u001b[0m\u001b[1;32m    117\u001b[0m     \u001b[0mkey\u001b[0m \u001b[0;34m=\u001b[0m \u001b[0mkeys\u001b[0m\u001b[0;34m[\u001b[0m\u001b[0;36m0\u001b[0m\u001b[0;34m]\u001b[0m\u001b[0;34m\u001b[0m\u001b[0;34m\u001b[0m\u001b[0m\n\u001b[1;32m    118\u001b[0m \u001b[0;34m\u001b[0m\u001b[0m\n",
            "\u001b[0;31mOptionError\u001b[0m: 'Pattern matched multiple keys'"
          ]
        }
      ]
    },
    {
      "cell_type": "code",
      "source": [],
      "metadata": {
        "id": "RuSKBJWQItiX"
      },
      "execution_count": null,
      "outputs": []
    },
    {
      "cell_type": "markdown",
      "source": [
        "Импортируем данные"
      ],
      "metadata": {
        "id": "rHGQ2MO3TGoW"
      }
    },
    {
      "cell_type": "code",
      "source": [
        "ds0 = pd.read_csv(\"ML.ds1.csv\")\n",
        "ds0"
      ],
      "metadata": {
        "colab": {
          "base_uri": "https://localhost:8080/",
          "height": 488
        },
        "id": "G4Tby82GTsiw",
        "outputId": "66d3ffb8-5591-4b15-d1c0-bd647dfee957"
      },
      "execution_count": 7,
      "outputs": [
        {
          "output_type": "execute_result",
          "data": {
            "text/plain": [
              "           v1        v2        v3        v4        v5        v6        v7  \\\n",
              "0    1.674664 -0.105114  1.123071  0.159780 -2.653400  0.731480  0.248630   \n",
              "1    1.815983  0.793212  0.437694  1.374387 -0.055956  0.678019  0.245999   \n",
              "2    0.777174 -1.030174  0.439461  1.371726  1.605366  0.695225  0.969702   \n",
              "3    1.030925  1.576539  0.906160  1.028792 -0.723862  0.626546  0.321099   \n",
              "4    0.872935 -0.723648  1.163915  3.085364  0.129386  0.896113  1.215447   \n",
              "..        ...       ...       ...       ...       ...       ...       ...   \n",
              "495  1.051487 -0.620462  0.984011  0.066505 -1.936210  0.477732  0.179516   \n",
              "496  0.867025  1.760782  0.530252  2.462219 -0.206389  0.852106  0.921861   \n",
              "497  1.110853  0.047405  1.081321  0.480877  2.006554  0.895313  2.915025   \n",
              "498  1.403898  0.265252  0.834466  0.207733  2.240169  0.860908  0.413167   \n",
              "499  1.160811  1.626182  1.183740  0.503894  0.779208  0.472740  0.848940   \n",
              "\n",
              "           v8        v9       v10  ...       v66       v67       v68  \\\n",
              "0   -2.411234  0.975680  9.011194  ...  0.635269  0.766523  1.108400   \n",
              "1    2.632142  1.094653  1.099596  ...  0.967244  0.973246  4.109887   \n",
              "2    2.473882  0.910368  4.997584  ...  0.517114  5.820453 -2.094585   \n",
              "3   -4.724615  1.039090  6.129512  ...  0.627821  0.499243 -7.330234   \n",
              "4    0.969162  0.972609  7.535088  ...  0.589966  1.972031  0.225700   \n",
              "..        ...       ...       ...  ...       ...       ...       ...   \n",
              "495  0.570672  0.773189  4.008374  ...  0.715936  0.263542  2.127951   \n",
              "496 -3.999858  1.001532  5.545035  ...  0.607631  1.261785  5.337368   \n",
              "497  6.306436  0.953056  4.765150  ...  0.266152  0.220973  2.092166   \n",
              "498  5.852722  0.787571  4.639298  ...  0.744873  0.699414 -5.926462   \n",
              "499  2.282836  0.987092  0.164974  ...  0.528884  1.451608 -3.554850   \n",
              "\n",
              "          v69        v70        v71       v72       v73       v74       v75  \n",
              "0    1.075446   6.565005   0.839696  0.496592  0.728681 -1.186913  0.871300  \n",
              "1    1.034150   9.851633   7.415128  0.583847  1.338758  2.582966  1.162462  \n",
              "2    1.047369   9.560367  -1.748572  0.778761  1.445412 -4.385701  0.858215  \n",
              "3    0.768444   2.383294   1.495813  0.833851  1.649441 -0.528993  0.695496  \n",
              "4    0.943955   8.833605  11.804698  0.518266  1.615040  0.328252  1.025233  \n",
              "..        ...        ...        ...       ...       ...       ...       ...  \n",
              "495  0.914104   8.870941   1.133994  0.619651  0.748321 -0.015590  0.856599  \n",
              "496  1.027842  10.175664   2.997243  0.693555  1.461349 -1.445974  0.561864  \n",
              "497  1.030427  11.488892   0.377065  0.570648  0.719444 -0.069232  0.778094  \n",
              "498  0.986691   3.612117   0.323205  0.337280  0.951353  1.536677  0.625214  \n",
              "499  0.963838   4.855953   4.270563  0.527576  1.011879  0.356646  0.798382  \n",
              "\n",
              "[500 rows x 75 columns]"
            ],
            "text/html": [
              "\n",
              "  <div id=\"df-6e4ecfe1-7e9d-4ee6-ad38-597d11beef4c\">\n",
              "    <div class=\"colab-df-container\">\n",
              "      <div>\n",
              "<style scoped>\n",
              "    .dataframe tbody tr th:only-of-type {\n",
              "        vertical-align: middle;\n",
              "    }\n",
              "\n",
              "    .dataframe tbody tr th {\n",
              "        vertical-align: top;\n",
              "    }\n",
              "\n",
              "    .dataframe thead th {\n",
              "        text-align: right;\n",
              "    }\n",
              "</style>\n",
              "<table border=\"1\" class=\"dataframe\">\n",
              "  <thead>\n",
              "    <tr style=\"text-align: right;\">\n",
              "      <th></th>\n",
              "      <th>v1</th>\n",
              "      <th>v2</th>\n",
              "      <th>v3</th>\n",
              "      <th>v4</th>\n",
              "      <th>v5</th>\n",
              "      <th>v6</th>\n",
              "      <th>v7</th>\n",
              "      <th>v8</th>\n",
              "      <th>v9</th>\n",
              "      <th>v10</th>\n",
              "      <th>...</th>\n",
              "      <th>v66</th>\n",
              "      <th>v67</th>\n",
              "      <th>v68</th>\n",
              "      <th>v69</th>\n",
              "      <th>v70</th>\n",
              "      <th>v71</th>\n",
              "      <th>v72</th>\n",
              "      <th>v73</th>\n",
              "      <th>v74</th>\n",
              "      <th>v75</th>\n",
              "    </tr>\n",
              "  </thead>\n",
              "  <tbody>\n",
              "    <tr>\n",
              "      <th>0</th>\n",
              "      <td>1.674664</td>\n",
              "      <td>-0.105114</td>\n",
              "      <td>1.123071</td>\n",
              "      <td>0.159780</td>\n",
              "      <td>-2.653400</td>\n",
              "      <td>0.731480</td>\n",
              "      <td>0.248630</td>\n",
              "      <td>-2.411234</td>\n",
              "      <td>0.975680</td>\n",
              "      <td>9.011194</td>\n",
              "      <td>...</td>\n",
              "      <td>0.635269</td>\n",
              "      <td>0.766523</td>\n",
              "      <td>1.108400</td>\n",
              "      <td>1.075446</td>\n",
              "      <td>6.565005</td>\n",
              "      <td>0.839696</td>\n",
              "      <td>0.496592</td>\n",
              "      <td>0.728681</td>\n",
              "      <td>-1.186913</td>\n",
              "      <td>0.871300</td>\n",
              "    </tr>\n",
              "    <tr>\n",
              "      <th>1</th>\n",
              "      <td>1.815983</td>\n",
              "      <td>0.793212</td>\n",
              "      <td>0.437694</td>\n",
              "      <td>1.374387</td>\n",
              "      <td>-0.055956</td>\n",
              "      <td>0.678019</td>\n",
              "      <td>0.245999</td>\n",
              "      <td>2.632142</td>\n",
              "      <td>1.094653</td>\n",
              "      <td>1.099596</td>\n",
              "      <td>...</td>\n",
              "      <td>0.967244</td>\n",
              "      <td>0.973246</td>\n",
              "      <td>4.109887</td>\n",
              "      <td>1.034150</td>\n",
              "      <td>9.851633</td>\n",
              "      <td>7.415128</td>\n",
              "      <td>0.583847</td>\n",
              "      <td>1.338758</td>\n",
              "      <td>2.582966</td>\n",
              "      <td>1.162462</td>\n",
              "    </tr>\n",
              "    <tr>\n",
              "      <th>2</th>\n",
              "      <td>0.777174</td>\n",
              "      <td>-1.030174</td>\n",
              "      <td>0.439461</td>\n",
              "      <td>1.371726</td>\n",
              "      <td>1.605366</td>\n",
              "      <td>0.695225</td>\n",
              "      <td>0.969702</td>\n",
              "      <td>2.473882</td>\n",
              "      <td>0.910368</td>\n",
              "      <td>4.997584</td>\n",
              "      <td>...</td>\n",
              "      <td>0.517114</td>\n",
              "      <td>5.820453</td>\n",
              "      <td>-2.094585</td>\n",
              "      <td>1.047369</td>\n",
              "      <td>9.560367</td>\n",
              "      <td>-1.748572</td>\n",
              "      <td>0.778761</td>\n",
              "      <td>1.445412</td>\n",
              "      <td>-4.385701</td>\n",
              "      <td>0.858215</td>\n",
              "    </tr>\n",
              "    <tr>\n",
              "      <th>3</th>\n",
              "      <td>1.030925</td>\n",
              "      <td>1.576539</td>\n",
              "      <td>0.906160</td>\n",
              "      <td>1.028792</td>\n",
              "      <td>-0.723862</td>\n",
              "      <td>0.626546</td>\n",
              "      <td>0.321099</td>\n",
              "      <td>-4.724615</td>\n",
              "      <td>1.039090</td>\n",
              "      <td>6.129512</td>\n",
              "      <td>...</td>\n",
              "      <td>0.627821</td>\n",
              "      <td>0.499243</td>\n",
              "      <td>-7.330234</td>\n",
              "      <td>0.768444</td>\n",
              "      <td>2.383294</td>\n",
              "      <td>1.495813</td>\n",
              "      <td>0.833851</td>\n",
              "      <td>1.649441</td>\n",
              "      <td>-0.528993</td>\n",
              "      <td>0.695496</td>\n",
              "    </tr>\n",
              "    <tr>\n",
              "      <th>4</th>\n",
              "      <td>0.872935</td>\n",
              "      <td>-0.723648</td>\n",
              "      <td>1.163915</td>\n",
              "      <td>3.085364</td>\n",
              "      <td>0.129386</td>\n",
              "      <td>0.896113</td>\n",
              "      <td>1.215447</td>\n",
              "      <td>0.969162</td>\n",
              "      <td>0.972609</td>\n",
              "      <td>7.535088</td>\n",
              "      <td>...</td>\n",
              "      <td>0.589966</td>\n",
              "      <td>1.972031</td>\n",
              "      <td>0.225700</td>\n",
              "      <td>0.943955</td>\n",
              "      <td>8.833605</td>\n",
              "      <td>11.804698</td>\n",
              "      <td>0.518266</td>\n",
              "      <td>1.615040</td>\n",
              "      <td>0.328252</td>\n",
              "      <td>1.025233</td>\n",
              "    </tr>\n",
              "    <tr>\n",
              "      <th>...</th>\n",
              "      <td>...</td>\n",
              "      <td>...</td>\n",
              "      <td>...</td>\n",
              "      <td>...</td>\n",
              "      <td>...</td>\n",
              "      <td>...</td>\n",
              "      <td>...</td>\n",
              "      <td>...</td>\n",
              "      <td>...</td>\n",
              "      <td>...</td>\n",
              "      <td>...</td>\n",
              "      <td>...</td>\n",
              "      <td>...</td>\n",
              "      <td>...</td>\n",
              "      <td>...</td>\n",
              "      <td>...</td>\n",
              "      <td>...</td>\n",
              "      <td>...</td>\n",
              "      <td>...</td>\n",
              "      <td>...</td>\n",
              "      <td>...</td>\n",
              "    </tr>\n",
              "    <tr>\n",
              "      <th>495</th>\n",
              "      <td>1.051487</td>\n",
              "      <td>-0.620462</td>\n",
              "      <td>0.984011</td>\n",
              "      <td>0.066505</td>\n",
              "      <td>-1.936210</td>\n",
              "      <td>0.477732</td>\n",
              "      <td>0.179516</td>\n",
              "      <td>0.570672</td>\n",
              "      <td>0.773189</td>\n",
              "      <td>4.008374</td>\n",
              "      <td>...</td>\n",
              "      <td>0.715936</td>\n",
              "      <td>0.263542</td>\n",
              "      <td>2.127951</td>\n",
              "      <td>0.914104</td>\n",
              "      <td>8.870941</td>\n",
              "      <td>1.133994</td>\n",
              "      <td>0.619651</td>\n",
              "      <td>0.748321</td>\n",
              "      <td>-0.015590</td>\n",
              "      <td>0.856599</td>\n",
              "    </tr>\n",
              "    <tr>\n",
              "      <th>496</th>\n",
              "      <td>0.867025</td>\n",
              "      <td>1.760782</td>\n",
              "      <td>0.530252</td>\n",
              "      <td>2.462219</td>\n",
              "      <td>-0.206389</td>\n",
              "      <td>0.852106</td>\n",
              "      <td>0.921861</td>\n",
              "      <td>-3.999858</td>\n",
              "      <td>1.001532</td>\n",
              "      <td>5.545035</td>\n",
              "      <td>...</td>\n",
              "      <td>0.607631</td>\n",
              "      <td>1.261785</td>\n",
              "      <td>5.337368</td>\n",
              "      <td>1.027842</td>\n",
              "      <td>10.175664</td>\n",
              "      <td>2.997243</td>\n",
              "      <td>0.693555</td>\n",
              "      <td>1.461349</td>\n",
              "      <td>-1.445974</td>\n",
              "      <td>0.561864</td>\n",
              "    </tr>\n",
              "    <tr>\n",
              "      <th>497</th>\n",
              "      <td>1.110853</td>\n",
              "      <td>0.047405</td>\n",
              "      <td>1.081321</td>\n",
              "      <td>0.480877</td>\n",
              "      <td>2.006554</td>\n",
              "      <td>0.895313</td>\n",
              "      <td>2.915025</td>\n",
              "      <td>6.306436</td>\n",
              "      <td>0.953056</td>\n",
              "      <td>4.765150</td>\n",
              "      <td>...</td>\n",
              "      <td>0.266152</td>\n",
              "      <td>0.220973</td>\n",
              "      <td>2.092166</td>\n",
              "      <td>1.030427</td>\n",
              "      <td>11.488892</td>\n",
              "      <td>0.377065</td>\n",
              "      <td>0.570648</td>\n",
              "      <td>0.719444</td>\n",
              "      <td>-0.069232</td>\n",
              "      <td>0.778094</td>\n",
              "    </tr>\n",
              "    <tr>\n",
              "      <th>498</th>\n",
              "      <td>1.403898</td>\n",
              "      <td>0.265252</td>\n",
              "      <td>0.834466</td>\n",
              "      <td>0.207733</td>\n",
              "      <td>2.240169</td>\n",
              "      <td>0.860908</td>\n",
              "      <td>0.413167</td>\n",
              "      <td>5.852722</td>\n",
              "      <td>0.787571</td>\n",
              "      <td>4.639298</td>\n",
              "      <td>...</td>\n",
              "      <td>0.744873</td>\n",
              "      <td>0.699414</td>\n",
              "      <td>-5.926462</td>\n",
              "      <td>0.986691</td>\n",
              "      <td>3.612117</td>\n",
              "      <td>0.323205</td>\n",
              "      <td>0.337280</td>\n",
              "      <td>0.951353</td>\n",
              "      <td>1.536677</td>\n",
              "      <td>0.625214</td>\n",
              "    </tr>\n",
              "    <tr>\n",
              "      <th>499</th>\n",
              "      <td>1.160811</td>\n",
              "      <td>1.626182</td>\n",
              "      <td>1.183740</td>\n",
              "      <td>0.503894</td>\n",
              "      <td>0.779208</td>\n",
              "      <td>0.472740</td>\n",
              "      <td>0.848940</td>\n",
              "      <td>2.282836</td>\n",
              "      <td>0.987092</td>\n",
              "      <td>0.164974</td>\n",
              "      <td>...</td>\n",
              "      <td>0.528884</td>\n",
              "      <td>1.451608</td>\n",
              "      <td>-3.554850</td>\n",
              "      <td>0.963838</td>\n",
              "      <td>4.855953</td>\n",
              "      <td>4.270563</td>\n",
              "      <td>0.527576</td>\n",
              "      <td>1.011879</td>\n",
              "      <td>0.356646</td>\n",
              "      <td>0.798382</td>\n",
              "    </tr>\n",
              "  </tbody>\n",
              "</table>\n",
              "<p>500 rows × 75 columns</p>\n",
              "</div>\n",
              "      <button class=\"colab-df-convert\" onclick=\"convertToInteractive('df-6e4ecfe1-7e9d-4ee6-ad38-597d11beef4c')\"\n",
              "              title=\"Convert this dataframe to an interactive table.\"\n",
              "              style=\"display:none;\">\n",
              "        \n",
              "  <svg xmlns=\"http://www.w3.org/2000/svg\" height=\"24px\"viewBox=\"0 0 24 24\"\n",
              "       width=\"24px\">\n",
              "    <path d=\"M0 0h24v24H0V0z\" fill=\"none\"/>\n",
              "    <path d=\"M18.56 5.44l.94 2.06.94-2.06 2.06-.94-2.06-.94-.94-2.06-.94 2.06-2.06.94zm-11 1L8.5 8.5l.94-2.06 2.06-.94-2.06-.94L8.5 2.5l-.94 2.06-2.06.94zm10 10l.94 2.06.94-2.06 2.06-.94-2.06-.94-.94-2.06-.94 2.06-2.06.94z\"/><path d=\"M17.41 7.96l-1.37-1.37c-.4-.4-.92-.59-1.43-.59-.52 0-1.04.2-1.43.59L10.3 9.45l-7.72 7.72c-.78.78-.78 2.05 0 2.83L4 21.41c.39.39.9.59 1.41.59.51 0 1.02-.2 1.41-.59l7.78-7.78 2.81-2.81c.8-.78.8-2.07 0-2.86zM5.41 20L4 18.59l7.72-7.72 1.47 1.35L5.41 20z\"/>\n",
              "  </svg>\n",
              "      </button>\n",
              "      \n",
              "  <style>\n",
              "    .colab-df-container {\n",
              "      display:flex;\n",
              "      flex-wrap:wrap;\n",
              "      gap: 12px;\n",
              "    }\n",
              "\n",
              "    .colab-df-convert {\n",
              "      background-color: #E8F0FE;\n",
              "      border: none;\n",
              "      border-radius: 50%;\n",
              "      cursor: pointer;\n",
              "      display: none;\n",
              "      fill: #1967D2;\n",
              "      height: 32px;\n",
              "      padding: 0 0 0 0;\n",
              "      width: 32px;\n",
              "    }\n",
              "\n",
              "    .colab-df-convert:hover {\n",
              "      background-color: #E2EBFA;\n",
              "      box-shadow: 0px 1px 2px rgba(60, 64, 67, 0.3), 0px 1px 3px 1px rgba(60, 64, 67, 0.15);\n",
              "      fill: #174EA6;\n",
              "    }\n",
              "\n",
              "    [theme=dark] .colab-df-convert {\n",
              "      background-color: #3B4455;\n",
              "      fill: #D2E3FC;\n",
              "    }\n",
              "\n",
              "    [theme=dark] .colab-df-convert:hover {\n",
              "      background-color: #434B5C;\n",
              "      box-shadow: 0px 1px 3px 1px rgba(0, 0, 0, 0.15);\n",
              "      filter: drop-shadow(0px 1px 2px rgba(0, 0, 0, 0.3));\n",
              "      fill: #FFFFFF;\n",
              "    }\n",
              "  </style>\n",
              "\n",
              "      <script>\n",
              "        const buttonEl =\n",
              "          document.querySelector('#df-6e4ecfe1-7e9d-4ee6-ad38-597d11beef4c button.colab-df-convert');\n",
              "        buttonEl.style.display =\n",
              "          google.colab.kernel.accessAllowed ? 'block' : 'none';\n",
              "\n",
              "        async function convertToInteractive(key) {\n",
              "          const element = document.querySelector('#df-6e4ecfe1-7e9d-4ee6-ad38-597d11beef4c');\n",
              "          const dataTable =\n",
              "            await google.colab.kernel.invokeFunction('convertToInteractive',\n",
              "                                                     [key], {});\n",
              "          if (!dataTable) return;\n",
              "\n",
              "          const docLinkHtml = 'Like what you see? Visit the ' +\n",
              "            '<a target=\"_blank\" href=https://colab.research.google.com/notebooks/data_table.ipynb>data table notebook</a>'\n",
              "            + ' to learn more about interactive tables.';\n",
              "          element.innerHTML = '';\n",
              "          dataTable['output_type'] = 'display_data';\n",
              "          await google.colab.output.renderOutput(dataTable, element);\n",
              "          const docLink = document.createElement('div');\n",
              "          docLink.innerHTML = docLinkHtml;\n",
              "          element.appendChild(docLink);\n",
              "        }\n",
              "      </script>\n",
              "    </div>\n",
              "  </div>\n",
              "  "
            ]
          },
          "metadata": {},
          "execution_count": 7
        }
      ]
    },
    {
      "cell_type": "markdown",
      "source": [
        "Выделяем в отдельную таблицу столбец v2 и переименовываем его в s2"
      ],
      "metadata": {
        "id": "tU4NkDE2BlMq"
      }
    },
    {
      "cell_type": "code",
      "source": [
        "ds = ds0[['v2']].rename({'v2':'s2'}, axis = 1)\n",
        "ds"
      ],
      "metadata": {
        "colab": {
          "base_uri": "https://localhost:8080/",
          "height": 424
        },
        "id": "EVNd8QkHVfh6",
        "outputId": "7db50c0a-6ce2-457f-f8c0-6c8255f04548"
      },
      "execution_count": 12,
      "outputs": [
        {
          "output_type": "execute_result",
          "data": {
            "text/plain": [
              "           s2\n",
              "0   -0.105114\n",
              "1    0.793212\n",
              "2   -1.030174\n",
              "3    1.576539\n",
              "4   -0.723648\n",
              "..        ...\n",
              "495 -0.620462\n",
              "496  1.760782\n",
              "497  0.047405\n",
              "498  0.265252\n",
              "499  1.626182\n",
              "\n",
              "[500 rows x 1 columns]"
            ],
            "text/html": [
              "\n",
              "  <div id=\"df-657722c6-0266-4919-8cff-43da51c532c8\">\n",
              "    <div class=\"colab-df-container\">\n",
              "      <div>\n",
              "<style scoped>\n",
              "    .dataframe tbody tr th:only-of-type {\n",
              "        vertical-align: middle;\n",
              "    }\n",
              "\n",
              "    .dataframe tbody tr th {\n",
              "        vertical-align: top;\n",
              "    }\n",
              "\n",
              "    .dataframe thead th {\n",
              "        text-align: right;\n",
              "    }\n",
              "</style>\n",
              "<table border=\"1\" class=\"dataframe\">\n",
              "  <thead>\n",
              "    <tr style=\"text-align: right;\">\n",
              "      <th></th>\n",
              "      <th>s2</th>\n",
              "    </tr>\n",
              "  </thead>\n",
              "  <tbody>\n",
              "    <tr>\n",
              "      <th>0</th>\n",
              "      <td>-0.105114</td>\n",
              "    </tr>\n",
              "    <tr>\n",
              "      <th>1</th>\n",
              "      <td>0.793212</td>\n",
              "    </tr>\n",
              "    <tr>\n",
              "      <th>2</th>\n",
              "      <td>-1.030174</td>\n",
              "    </tr>\n",
              "    <tr>\n",
              "      <th>3</th>\n",
              "      <td>1.576539</td>\n",
              "    </tr>\n",
              "    <tr>\n",
              "      <th>4</th>\n",
              "      <td>-0.723648</td>\n",
              "    </tr>\n",
              "    <tr>\n",
              "      <th>...</th>\n",
              "      <td>...</td>\n",
              "    </tr>\n",
              "    <tr>\n",
              "      <th>495</th>\n",
              "      <td>-0.620462</td>\n",
              "    </tr>\n",
              "    <tr>\n",
              "      <th>496</th>\n",
              "      <td>1.760782</td>\n",
              "    </tr>\n",
              "    <tr>\n",
              "      <th>497</th>\n",
              "      <td>0.047405</td>\n",
              "    </tr>\n",
              "    <tr>\n",
              "      <th>498</th>\n",
              "      <td>0.265252</td>\n",
              "    </tr>\n",
              "    <tr>\n",
              "      <th>499</th>\n",
              "      <td>1.626182</td>\n",
              "    </tr>\n",
              "  </tbody>\n",
              "</table>\n",
              "<p>500 rows × 1 columns</p>\n",
              "</div>\n",
              "      <button class=\"colab-df-convert\" onclick=\"convertToInteractive('df-657722c6-0266-4919-8cff-43da51c532c8')\"\n",
              "              title=\"Convert this dataframe to an interactive table.\"\n",
              "              style=\"display:none;\">\n",
              "        \n",
              "  <svg xmlns=\"http://www.w3.org/2000/svg\" height=\"24px\"viewBox=\"0 0 24 24\"\n",
              "       width=\"24px\">\n",
              "    <path d=\"M0 0h24v24H0V0z\" fill=\"none\"/>\n",
              "    <path d=\"M18.56 5.44l.94 2.06.94-2.06 2.06-.94-2.06-.94-.94-2.06-.94 2.06-2.06.94zm-11 1L8.5 8.5l.94-2.06 2.06-.94-2.06-.94L8.5 2.5l-.94 2.06-2.06.94zm10 10l.94 2.06.94-2.06 2.06-.94-2.06-.94-.94-2.06-.94 2.06-2.06.94z\"/><path d=\"M17.41 7.96l-1.37-1.37c-.4-.4-.92-.59-1.43-.59-.52 0-1.04.2-1.43.59L10.3 9.45l-7.72 7.72c-.78.78-.78 2.05 0 2.83L4 21.41c.39.39.9.59 1.41.59.51 0 1.02-.2 1.41-.59l7.78-7.78 2.81-2.81c.8-.78.8-2.07 0-2.86zM5.41 20L4 18.59l7.72-7.72 1.47 1.35L5.41 20z\"/>\n",
              "  </svg>\n",
              "      </button>\n",
              "      \n",
              "  <style>\n",
              "    .colab-df-container {\n",
              "      display:flex;\n",
              "      flex-wrap:wrap;\n",
              "      gap: 12px;\n",
              "    }\n",
              "\n",
              "    .colab-df-convert {\n",
              "      background-color: #E8F0FE;\n",
              "      border: none;\n",
              "      border-radius: 50%;\n",
              "      cursor: pointer;\n",
              "      display: none;\n",
              "      fill: #1967D2;\n",
              "      height: 32px;\n",
              "      padding: 0 0 0 0;\n",
              "      width: 32px;\n",
              "    }\n",
              "\n",
              "    .colab-df-convert:hover {\n",
              "      background-color: #E2EBFA;\n",
              "      box-shadow: 0px 1px 2px rgba(60, 64, 67, 0.3), 0px 1px 3px 1px rgba(60, 64, 67, 0.15);\n",
              "      fill: #174EA6;\n",
              "    }\n",
              "\n",
              "    [theme=dark] .colab-df-convert {\n",
              "      background-color: #3B4455;\n",
              "      fill: #D2E3FC;\n",
              "    }\n",
              "\n",
              "    [theme=dark] .colab-df-convert:hover {\n",
              "      background-color: #434B5C;\n",
              "      box-shadow: 0px 1px 3px 1px rgba(0, 0, 0, 0.15);\n",
              "      filter: drop-shadow(0px 1px 2px rgba(0, 0, 0, 0.3));\n",
              "      fill: #FFFFFF;\n",
              "    }\n",
              "  </style>\n",
              "\n",
              "      <script>\n",
              "        const buttonEl =\n",
              "          document.querySelector('#df-657722c6-0266-4919-8cff-43da51c532c8 button.colab-df-convert');\n",
              "        buttonEl.style.display =\n",
              "          google.colab.kernel.accessAllowed ? 'block' : 'none';\n",
              "\n",
              "        async function convertToInteractive(key) {\n",
              "          const element = document.querySelector('#df-657722c6-0266-4919-8cff-43da51c532c8');\n",
              "          const dataTable =\n",
              "            await google.colab.kernel.invokeFunction('convertToInteractive',\n",
              "                                                     [key], {});\n",
              "          if (!dataTable) return;\n",
              "\n",
              "          const docLinkHtml = 'Like what you see? Visit the ' +\n",
              "            '<a target=\"_blank\" href=https://colab.research.google.com/notebooks/data_table.ipynb>data table notebook</a>'\n",
              "            + ' to learn more about interactive tables.';\n",
              "          element.innerHTML = '';\n",
              "          dataTable['output_type'] = 'display_data';\n",
              "          await google.colab.output.renderOutput(dataTable, element);\n",
              "          const docLink = document.createElement('div');\n",
              "          docLink.innerHTML = docLinkHtml;\n",
              "          element.appendChild(docLink);\n",
              "        }\n",
              "      </script>\n",
              "    </div>\n",
              "  </div>\n",
              "  "
            ]
          },
          "metadata": {},
          "execution_count": 12
        }
      ]
    },
    {
      "cell_type": "markdown",
      "source": [
        "## Описательная статистика\n"
      ],
      "metadata": {
        "id": "AaCaURDVB3UK"
      }
    },
    {
      "cell_type": "markdown",
      "source": [
        "Вычислим числовые характеристики выборки, которые будем использовать в дальнейшем и составим из них таблицу"
      ],
      "metadata": {
        "id": "zOMXO-zpUft-"
      }
    },
    {
      "cell_type": "code",
      "source": [
        "mu = ds.s2.mean()\n",
        "sd = ds.s2.std()\n",
        "med = ds.s2.median()\n",
        "sk = ds.s2.skew()"
      ],
      "metadata": {
        "id": "zENYCbrXUp9S"
      },
      "execution_count": 13,
      "outputs": []
    },
    {
      "cell_type": "code",
      "source": [
        "ind = ['mean', 'std', 'median', 'skew']\n",
        "dat = [mu, sd, med, sk]\n",
        "pd.DataFrame(dat, ind, columns=['Sample']).T"
      ],
      "metadata": {
        "colab": {
          "base_uri": "https://localhost:8080/",
          "height": 81
        },
        "id": "vcTtX5IWVC_y",
        "outputId": "b1a8cda2-e5a8-4dc6-bc49-5d5df0697900"
      },
      "execution_count": 14,
      "outputs": [
        {
          "output_type": "execute_result",
          "data": {
            "text/plain": [
              "            mean       std    median    skew\n",
              "Sample -0.161789  1.702182 -0.182959  0.1505"
            ],
            "text/html": [
              "\n",
              "  <div id=\"df-8b8b9ffe-6518-47e2-a4c7-fb5a0ff00aa5\">\n",
              "    <div class=\"colab-df-container\">\n",
              "      <div>\n",
              "<style scoped>\n",
              "    .dataframe tbody tr th:only-of-type {\n",
              "        vertical-align: middle;\n",
              "    }\n",
              "\n",
              "    .dataframe tbody tr th {\n",
              "        vertical-align: top;\n",
              "    }\n",
              "\n",
              "    .dataframe thead th {\n",
              "        text-align: right;\n",
              "    }\n",
              "</style>\n",
              "<table border=\"1\" class=\"dataframe\">\n",
              "  <thead>\n",
              "    <tr style=\"text-align: right;\">\n",
              "      <th></th>\n",
              "      <th>mean</th>\n",
              "      <th>std</th>\n",
              "      <th>median</th>\n",
              "      <th>skew</th>\n",
              "    </tr>\n",
              "  </thead>\n",
              "  <tbody>\n",
              "    <tr>\n",
              "      <th>Sample</th>\n",
              "      <td>-0.161789</td>\n",
              "      <td>1.702182</td>\n",
              "      <td>-0.182959</td>\n",
              "      <td>0.1505</td>\n",
              "    </tr>\n",
              "  </tbody>\n",
              "</table>\n",
              "</div>\n",
              "      <button class=\"colab-df-convert\" onclick=\"convertToInteractive('df-8b8b9ffe-6518-47e2-a4c7-fb5a0ff00aa5')\"\n",
              "              title=\"Convert this dataframe to an interactive table.\"\n",
              "              style=\"display:none;\">\n",
              "        \n",
              "  <svg xmlns=\"http://www.w3.org/2000/svg\" height=\"24px\"viewBox=\"0 0 24 24\"\n",
              "       width=\"24px\">\n",
              "    <path d=\"M0 0h24v24H0V0z\" fill=\"none\"/>\n",
              "    <path d=\"M18.56 5.44l.94 2.06.94-2.06 2.06-.94-2.06-.94-.94-2.06-.94 2.06-2.06.94zm-11 1L8.5 8.5l.94-2.06 2.06-.94-2.06-.94L8.5 2.5l-.94 2.06-2.06.94zm10 10l.94 2.06.94-2.06 2.06-.94-2.06-.94-.94-2.06-.94 2.06-2.06.94z\"/><path d=\"M17.41 7.96l-1.37-1.37c-.4-.4-.92-.59-1.43-.59-.52 0-1.04.2-1.43.59L10.3 9.45l-7.72 7.72c-.78.78-.78 2.05 0 2.83L4 21.41c.39.39.9.59 1.41.59.51 0 1.02-.2 1.41-.59l7.78-7.78 2.81-2.81c.8-.78.8-2.07 0-2.86zM5.41 20L4 18.59l7.72-7.72 1.47 1.35L5.41 20z\"/>\n",
              "  </svg>\n",
              "      </button>\n",
              "      \n",
              "  <style>\n",
              "    .colab-df-container {\n",
              "      display:flex;\n",
              "      flex-wrap:wrap;\n",
              "      gap: 12px;\n",
              "    }\n",
              "\n",
              "    .colab-df-convert {\n",
              "      background-color: #E8F0FE;\n",
              "      border: none;\n",
              "      border-radius: 50%;\n",
              "      cursor: pointer;\n",
              "      display: none;\n",
              "      fill: #1967D2;\n",
              "      height: 32px;\n",
              "      padding: 0 0 0 0;\n",
              "      width: 32px;\n",
              "    }\n",
              "\n",
              "    .colab-df-convert:hover {\n",
              "      background-color: #E2EBFA;\n",
              "      box-shadow: 0px 1px 2px rgba(60, 64, 67, 0.3), 0px 1px 3px 1px rgba(60, 64, 67, 0.15);\n",
              "      fill: #174EA6;\n",
              "    }\n",
              "\n",
              "    [theme=dark] .colab-df-convert {\n",
              "      background-color: #3B4455;\n",
              "      fill: #D2E3FC;\n",
              "    }\n",
              "\n",
              "    [theme=dark] .colab-df-convert:hover {\n",
              "      background-color: #434B5C;\n",
              "      box-shadow: 0px 1px 3px 1px rgba(0, 0, 0, 0.15);\n",
              "      filter: drop-shadow(0px 1px 2px rgba(0, 0, 0, 0.3));\n",
              "      fill: #FFFFFF;\n",
              "    }\n",
              "  </style>\n",
              "\n",
              "      <script>\n",
              "        const buttonEl =\n",
              "          document.querySelector('#df-8b8b9ffe-6518-47e2-a4c7-fb5a0ff00aa5 button.colab-df-convert');\n",
              "        buttonEl.style.display =\n",
              "          google.colab.kernel.accessAllowed ? 'block' : 'none';\n",
              "\n",
              "        async function convertToInteractive(key) {\n",
              "          const element = document.querySelector('#df-8b8b9ffe-6518-47e2-a4c7-fb5a0ff00aa5');\n",
              "          const dataTable =\n",
              "            await google.colab.kernel.invokeFunction('convertToInteractive',\n",
              "                                                     [key], {});\n",
              "          if (!dataTable) return;\n",
              "\n",
              "          const docLinkHtml = 'Like what you see? Visit the ' +\n",
              "            '<a target=\"_blank\" href=https://colab.research.google.com/notebooks/data_table.ipynb>data table notebook</a>'\n",
              "            + ' to learn more about interactive tables.';\n",
              "          element.innerHTML = '';\n",
              "          dataTable['output_type'] = 'display_data';\n",
              "          await google.colab.output.renderOutput(dataTable, element);\n",
              "          const docLink = document.createElement('div');\n",
              "          docLink.innerHTML = docLinkHtml;\n",
              "          element.appendChild(docLink);\n",
              "        }\n",
              "      </script>\n",
              "    </div>\n",
              "  </div>\n",
              "  "
            ]
          },
          "metadata": {},
          "execution_count": 14
        }
      ]
    },
    {
      "cell_type": "markdown",
      "source": [
        "# Визуализация данных"
      ],
      "metadata": {
        "id": "qFGRmVlhC4pu"
      }
    },
    {
      "cell_type": "markdown",
      "source": [
        "Построим диаграмму рассеяния, но расположив выборочные значения по горизонтальной оси"
      ],
      "metadata": {
        "id": "CXM6SCI__rUH"
      }
    },
    {
      "cell_type": "code",
      "source": [
        "plt.scatter(ds.s2, ds.index, c = 'b', marker = 'd', s = 40, alpha = 0.3)\n",
        "plt.title(\"Диаграмма рассеяния\")\n",
        "plt.ylabel(\"Номер наблюдения\")\n",
        "plt.xlabel(\"Выборочные значения\")\n"
      ],
      "metadata": {
        "colab": {
          "base_uri": "https://localhost:8080/",
          "height": 312
        },
        "id": "X-_qIZvNXl_p",
        "outputId": "14b7c38b-bfe3-439b-8db5-b13531ea698a"
      },
      "execution_count": 15,
      "outputs": [
        {
          "output_type": "execute_result",
          "data": {
            "text/plain": [
              "Text(0.5, 0, 'Выборочные значения')"
            ]
          },
          "metadata": {},
          "execution_count": 15
        },
        {
          "output_type": "display_data",
          "data": {
            "text/plain": [
              "<Figure size 432x288 with 1 Axes>"
            ],
            "image/png": "[encoded data removed]"
          },
          "metadata": {
            "needs_background": "light"
          }
        }
      ]
    },
    {
      "cell_type": "markdown",
      "source": [
        "В выборке, по-видимому присутствуют аномальные данные\n",
        "\n",
        "В генеральной совокупности несимметричность не замечена"
      ],
      "metadata": {
        "id": "s2yGD1Mr_MVR"
      }
    },
    {
      "cell_type": "markdown",
      "source": [
        "Построим диаграмму размаха"
      ],
      "metadata": {
        "id": "uX2VzB5E_ZLr"
      }
    },
    {
      "cell_type": "code",
      "source": [
        "box = plt.boxplot(ds.s2, vert = False, notch = True, patch_artist = True, \n",
        "                  flierprops = dict(markerfacecolor = 'purple', marker = 's'),\n",
        "                  boxprops = dict(color = 'red', facecolor = 'lime'))\n",
        "plt.title(\"Диаграмма размаха\")\n",
        "plt.xlabel(\"Выборочные значения\")"
      ],
      "metadata": {
        "colab": {
          "base_uri": "https://localhost:8080/",
          "height": 312
        },
        "id": "A7GY0ap1aEgz",
        "outputId": "40261218-fc9f-40a9-9749-762a1b73bb3c"
      },
      "execution_count": 16,
      "outputs": [
        {
          "output_type": "execute_result",
          "data": {
            "text/plain": [
              "Text(0.5, 0, 'Выборочные значения')"
            ]
          },
          "metadata": {},
          "execution_count": 16
        },
        {
          "output_type": "display_data",
          "data": {
            "text/plain": [
              "<Figure size 432x288 with 1 Axes>"
            ],
            "image/png": "[encoded data removed]"
          },
          "metadata": {
            "needs_background": "light"
          }
        }
      ]
    },
    {
      "cell_type": "markdown",
      "source": [
        "## Вывод"
      ],
      "metadata": {
        "id": "AwrsMWX5DpaX"
      }
    },
    {
      "cell_type": "markdown",
      "source": [
        "Анализ данных показал:\n",
        "\n",
        "*   В выборке по-видимому, присутствуют аномальные данные;\n",
        "*   Генеральная совокупность, скорее всего, симметрична: график плотности распределения исследуемого показателя генеральной совокупности симметричен\n",
        "\n"
      ],
      "metadata": {
        "id": "sW2WuBrED_br"
      }
    },
    {
      "cell_type": "markdown",
      "source": [
        "# Отбор данных"
      ],
      "metadata": {
        "id": "jQzxs9BvE8OM"
      }
    },
    {
      "cell_type": "markdown",
      "source": [
        "## Проверка на симметричность"
      ],
      "metadata": {
        "id": "4Fyd695zE_aR"
      }
    },
    {
      "cell_type": "markdown",
      "source": [
        "Проверим генеральную совокупность на симметричность с помощью двух тестов, в которых основная гипотеза - генеральная совокупность симметричная"
      ],
      "metadata": {
        "id": "jBQ0JOHGFWbn"
      }
    },
    {
      "cell_type": "markdown",
      "source": [
        "Первый тест сравнивает выборочное среднее с выборочной медианой"
      ],
      "metadata": {
        "id": "BHuC2nyWGnkO"
      }
    },
    {
      "cell_type": "markdown",
      "source": [
        "Вычислим объем выборки, наблюдаемое и критическое значения"
      ],
      "metadata": {
        "id": "aDxQkQyPGt0Y"
      }
    },
    {
      "cell_type": "code",
      "source": [
        "ns = ds.size\n",
        "print(\"Объем выборки равен\", ns)"
      ],
      "metadata": {
        "colab": {
          "base_uri": "https://localhost:8080/"
        },
        "id": "LqSA1Q7VG0fQ",
        "outputId": "89b8fac5-5e4a-4b86-bbc1-72a792cab89b"
      },
      "execution_count": 17,
      "outputs": [
        {
          "output_type": "stream",
          "name": "stdout",
          "text": [
            "Объем выборки равен 500\n"
          ]
        }
      ]
    },
    {
      "cell_type": "code",
      "source": [
        "xn1 = abs(mu-med)\n",
        "print(\"Наблюдаемое значение равно\", xn1)"
      ],
      "metadata": {
        "colab": {
          "base_uri": "https://localhost:8080/"
        },
        "id": "eM1ewFX_JEgl",
        "outputId": "28c5d2f5-9d64-46b7-93f3-783150044c86"
      },
      "execution_count": 18,
      "outputs": [
        {
          "output_type": "stream",
          "name": "stdout",
          "text": [
            "Наблюдаемое значение равно 0.021170293077626995\n"
          ]
        }
      ]
    },
    {
      "cell_type": "code",
      "source": [
        "xk1 = 3*sd/np.sqrt(ns)\n",
        "print(\"Критическое значение равно\", xk1)"
      ],
      "metadata": {
        "colab": {
          "base_uri": "https://localhost:8080/"
        },
        "id": "9_2EsHkUJi1g",
        "outputId": "19ca19fa-a91d-4c11-e810-fd5d4fa081bf"
      },
      "execution_count": 19,
      "outputs": [
        {
          "output_type": "stream",
          "name": "stdout",
          "text": [
            "Критическое значение равно 0.22837170910783336\n"
          ]
        }
      ]
    },
    {
      "cell_type": "markdown",
      "source": [
        "Так как наблюдаемое значение меньше критического, то гипотеза о симметричности генеральной совокупности не отвергается"
      ],
      "metadata": {
        "id": "dVtQiXbUJ2wK"
      }
    },
    {
      "cell_type": "markdown",
      "source": [
        "Второй тест оценивает величину выборочного коэффициента асимметрии"
      ],
      "metadata": {
        "id": "_tfQk21KKbIu"
      }
    },
    {
      "cell_type": "markdown",
      "source": [
        "Вычислим наблюдаемое и критическое значения"
      ],
      "metadata": {
        "id": "X3ExOKi3KmF0"
      }
    },
    {
      "cell_type": "code",
      "source": [
        "xn2 = abs(sk)\n",
        "print(\"Наблюдаемое значение равно\", xn2)"
      ],
      "metadata": {
        "colab": {
          "base_uri": "https://localhost:8080/"
        },
        "id": "kl6r2U2dKqyk",
        "outputId": "e3b42754-6897-4248-efbe-4aac9e519380"
      },
      "execution_count": 20,
      "outputs": [
        {
          "output_type": "stream",
          "name": "stdout",
          "text": [
            "Наблюдаемое значение равно 0.15049960268996024\n"
          ]
        }
      ]
    },
    {
      "cell_type": "code",
      "source": [
        "xk2 = np.sqrt(54*(ns-1)/(ns+1)/(ns+3))\n",
        "print(\"Критическое значение равно\", xk2)"
      ],
      "metadata": {
        "colab": {
          "base_uri": "https://localhost:8080/"
        },
        "id": "6FwcEfc0K3I3",
        "outputId": "41595b87-77c1-4487-8196-128b59c859cc"
      },
      "execution_count": 26,
      "outputs": [
        {
          "output_type": "stream",
          "name": "stdout",
          "text": [
            "Критическое значение равно 0.32699739828405644\n"
          ]
        }
      ]
    },
    {
      "cell_type": "markdown",
      "source": [
        "Так как наблюдаемое значение меньше критического, то гипотеза о симметричности генеральной совокупности не отвергается"
      ],
      "metadata": {
        "id": "yiArWytUMGF-"
      }
    },
    {
      "cell_type": "markdown",
      "source": [
        "### Вывод "
      ],
      "metadata": {
        "id": "f1hZx9JpMWXc"
      }
    },
    {
      "cell_type": "markdown",
      "source": [
        "Исходя из анализа диаграмм и результатов двух тестов можно сделать вывод о том, что гипотеза о симметричности генеральной совокупности (по исследуемому показателю) не противоречит выборочным данным"
      ],
      "metadata": {
        "id": "qzWL9UU7MSkW"
      }
    },
    {
      "cell_type": "markdown",
      "source": [
        "## Очистка данных"
      ],
      "metadata": {
        "id": "7W5F3b7rNA88"
      }
    },
    {
      "cell_type": "markdown",
      "source": [
        "Гипотеза о симметричности генеральной совокупности по исследуемому показателю не была отвергнута, поэтому для отбора данных будем использовать интервал вида ($\\overline{x}$ - 3s; $\\overline{x}$ + 3s), где $\\overline{x}$ - выборочное среднее, s - стандартное отклонение"
      ],
      "metadata": {
        "id": "816lg0JxNGuX"
      }
    },
    {
      "cell_type": "markdown",
      "source": [
        "Вычислим границы этого интервала"
      ],
      "metadata": {
        "id": "D3e2qSHdPPDH"
      }
    },
    {
      "cell_type": "code",
      "source": [
        "A = mu - 3*sd\n",
        "B = mu + 3*sd\n",
        "print(\"Левая раница интервала:\", A)\n",
        "print(\"Правая граница интервала:\", B)"
      ],
      "metadata": {
        "colab": {
          "base_uri": "https://localhost:8080/"
        },
        "id": "hnnwl5KqPRul",
        "outputId": "74d95db8-d902-4050-e41b-4f9187404010"
      },
      "execution_count": 28,
      "outputs": [
        {
          "output_type": "stream",
          "name": "stdout",
          "text": [
            "Левая раница интервала: -5.268335749250077\n",
            "Правая граница интервала: 4.944757564808389\n"
          ]
        }
      ]
    },
    {
      "cell_type": "markdown",
      "source": [
        "Выделим аномальные данные"
      ],
      "metadata": {
        "id": "74K5DCYoPrrh"
      }
    },
    {
      "cell_type": "code",
      "source": [
        "ds[ds.s2 <= A]"
      ],
      "metadata": {
        "colab": {
          "base_uri": "https://localhost:8080/",
          "height": 112
        },
        "id": "4usx_xXiPyDn",
        "outputId": "0ff78f77-faf1-40dd-98ab-c6dff520ea18"
      },
      "execution_count": 29,
      "outputs": [
        {
          "output_type": "execute_result",
          "data": {
            "text/plain": [
              "           s2\n",
              "359 -7.184671\n",
              "375 -5.421436"
            ],
            "text/html": [
              "\n",
              "  <div id=\"df-f6c038fb-d3b8-4e4c-9b25-552d9ebb23d3\">\n",
              "    <div class=\"colab-df-container\">\n",
              "      <div>\n",
              "<style scoped>\n",
              "    .dataframe tbody tr th:only-of-type {\n",
              "        vertical-align: middle;\n",
              "    }\n",
              "\n",
              "    .dataframe tbody tr th {\n",
              "        vertical-align: top;\n",
              "    }\n",
              "\n",
              "    .dataframe thead th {\n",
              "        text-align: right;\n",
              "    }\n",
              "</style>\n",
              "<table border=\"1\" class=\"dataframe\">\n",
              "  <thead>\n",
              "    <tr style=\"text-align: right;\">\n",
              "      <th></th>\n",
              "      <th>s2</th>\n",
              "    </tr>\n",
              "  </thead>\n",
              "  <tbody>\n",
              "    <tr>\n",
              "      <th>359</th>\n",
              "      <td>-7.184671</td>\n",
              "    </tr>\n",
              "    <tr>\n",
              "      <th>375</th>\n",
              "      <td>-5.421436</td>\n",
              "    </tr>\n",
              "  </tbody>\n",
              "</table>\n",
              "</div>\n",
              "      <button class=\"colab-df-convert\" onclick=\"convertToInteractive('df-f6c038fb-d3b8-4e4c-9b25-552d9ebb23d3')\"\n",
              "              title=\"Convert this dataframe to an interactive table.\"\n",
              "              style=\"display:none;\">\n",
              "        \n",
              "  <svg xmlns=\"http://www.w3.org/2000/svg\" height=\"24px\"viewBox=\"0 0 24 24\"\n",
              "       width=\"24px\">\n",
              "    <path d=\"M0 0h24v24H0V0z\" fill=\"none\"/>\n",
              "    <path d=\"M18.56 5.44l.94 2.06.94-2.06 2.06-.94-2.06-.94-.94-2.06-.94 2.06-2.06.94zm-11 1L8.5 8.5l.94-2.06 2.06-.94-2.06-.94L8.5 2.5l-.94 2.06-2.06.94zm10 10l.94 2.06.94-2.06 2.06-.94-2.06-.94-.94-2.06-.94 2.06-2.06.94z\"/><path d=\"M17.41 7.96l-1.37-1.37c-.4-.4-.92-.59-1.43-.59-.52 0-1.04.2-1.43.59L10.3 9.45l-7.72 7.72c-.78.78-.78 2.05 0 2.83L4 21.41c.39.39.9.59 1.41.59.51 0 1.02-.2 1.41-.59l7.78-7.78 2.81-2.81c.8-.78.8-2.07 0-2.86zM5.41 20L4 18.59l7.72-7.72 1.47 1.35L5.41 20z\"/>\n",
              "  </svg>\n",
              "      </button>\n",
              "      \n",
              "  <style>\n",
              "    .colab-df-container {\n",
              "      display:flex;\n",
              "      flex-wrap:wrap;\n",
              "      gap: 12px;\n",
              "    }\n",
              "\n",
              "    .colab-df-convert {\n",
              "      background-color: #E8F0FE;\n",
              "      border: none;\n",
              "      border-radius: 50%;\n",
              "      cursor: pointer;\n",
              "      display: none;\n",
              "      fill: #1967D2;\n",
              "      height: 32px;\n",
              "      padding: 0 0 0 0;\n",
              "      width: 32px;\n",
              "    }\n",
              "\n",
              "    .colab-df-convert:hover {\n",
              "      background-color: #E2EBFA;\n",
              "      box-shadow: 0px 1px 2px rgba(60, 64, 67, 0.3), 0px 1px 3px 1px rgba(60, 64, 67, 0.15);\n",
              "      fill: #174EA6;\n",
              "    }\n",
              "\n",
              "    [theme=dark] .colab-df-convert {\n",
              "      background-color: #3B4455;\n",
              "      fill: #D2E3FC;\n",
              "    }\n",
              "\n",
              "    [theme=dark] .colab-df-convert:hover {\n",
              "      background-color: #434B5C;\n",
              "      box-shadow: 0px 1px 3px 1px rgba(0, 0, 0, 0.15);\n",
              "      filter: drop-shadow(0px 1px 2px rgba(0, 0, 0, 0.3));\n",
              "      fill: #FFFFFF;\n",
              "    }\n",
              "  </style>\n",
              "\n",
              "      <script>\n",
              "        const buttonEl =\n",
              "          document.querySelector('#df-f6c038fb-d3b8-4e4c-9b25-552d9ebb23d3 button.colab-df-convert');\n",
              "        buttonEl.style.display =\n",
              "          google.colab.kernel.accessAllowed ? 'block' : 'none';\n",
              "\n",
              "        async function convertToInteractive(key) {\n",
              "          const element = document.querySelector('#df-f6c038fb-d3b8-4e4c-9b25-552d9ebb23d3');\n",
              "          const dataTable =\n",
              "            await google.colab.kernel.invokeFunction('convertToInteractive',\n",
              "                                                     [key], {});\n",
              "          if (!dataTable) return;\n",
              "\n",
              "          const docLinkHtml = 'Like what you see? Visit the ' +\n",
              "            '<a target=\"_blank\" href=https://colab.research.google.com/notebooks/data_table.ipynb>data table notebook</a>'\n",
              "            + ' to learn more about interactive tables.';\n",
              "          element.innerHTML = '';\n",
              "          dataTable['output_type'] = 'display_data';\n",
              "          await google.colab.output.renderOutput(dataTable, element);\n",
              "          const docLink = document.createElement('div');\n",
              "          docLink.innerHTML = docLinkHtml;\n",
              "          element.appendChild(docLink);\n",
              "        }\n",
              "      </script>\n",
              "    </div>\n",
              "  </div>\n",
              "  "
            ]
          },
          "metadata": {},
          "execution_count": 29
        }
      ]
    },
    {
      "cell_type": "code",
      "source": [
        "ds[ds.s2 >= B]"
      ],
      "metadata": {
        "colab": {
          "base_uri": "https://localhost:8080/",
          "height": 206
        },
        "id": "xXDU1sM6QS5E",
        "outputId": "668ee1ec-5fd1-43ba-f9bd-a6b50f76b798"
      },
      "execution_count": 31,
      "outputs": [
        {
          "output_type": "execute_result",
          "data": {
            "text/plain": [
              "           s2\n",
              "48   5.772020\n",
              "110  6.390799\n",
              "242  5.049369\n",
              "343  5.038286\n",
              "365  4.981372"
            ],
            "text/html": [
              "\n",
              "  <div id=\"df-115cde45-d037-464d-8308-8053b002682c\">\n",
              "    <div class=\"colab-df-container\">\n",
              "      <div>\n",
              "<style scoped>\n",
              "    .dataframe tbody tr th:only-of-type {\n",
              "        vertical-align: middle;\n",
              "    }\n",
              "\n",
              "    .dataframe tbody tr th {\n",
              "        vertical-align: top;\n",
              "    }\n",
              "\n",
              "    .dataframe thead th {\n",
              "        text-align: right;\n",
              "    }\n",
              "</style>\n",
              "<table border=\"1\" class=\"dataframe\">\n",
              "  <thead>\n",
              "    <tr style=\"text-align: right;\">\n",
              "      <th></th>\n",
              "      <th>s2</th>\n",
              "    </tr>\n",
              "  </thead>\n",
              "  <tbody>\n",
              "    <tr>\n",
              "      <th>48</th>\n",
              "      <td>5.772020</td>\n",
              "    </tr>\n",
              "    <tr>\n",
              "      <th>110</th>\n",
              "      <td>6.390799</td>\n",
              "    </tr>\n",
              "    <tr>\n",
              "      <th>242</th>\n",
              "      <td>5.049369</td>\n",
              "    </tr>\n",
              "    <tr>\n",
              "      <th>343</th>\n",
              "      <td>5.038286</td>\n",
              "    </tr>\n",
              "    <tr>\n",
              "      <th>365</th>\n",
              "      <td>4.981372</td>\n",
              "    </tr>\n",
              "  </tbody>\n",
              "</table>\n",
              "</div>\n",
              "      <button class=\"colab-df-convert\" onclick=\"convertToInteractive('df-115cde45-d037-464d-8308-8053b002682c')\"\n",
              "              title=\"Convert this dataframe to an interactive table.\"\n",
              "              style=\"display:none;\">\n",
              "        \n",
              "  <svg xmlns=\"http://www.w3.org/2000/svg\" height=\"24px\"viewBox=\"0 0 24 24\"\n",
              "       width=\"24px\">\n",
              "    <path d=\"M0 0h24v24H0V0z\" fill=\"none\"/>\n",
              "    <path d=\"M18.56 5.44l.94 2.06.94-2.06 2.06-.94-2.06-.94-.94-2.06-.94 2.06-2.06.94zm-11 1L8.5 8.5l.94-2.06 2.06-.94-2.06-.94L8.5 2.5l-.94 2.06-2.06.94zm10 10l.94 2.06.94-2.06 2.06-.94-2.06-.94-.94-2.06-.94 2.06-2.06.94z\"/><path d=\"M17.41 7.96l-1.37-1.37c-.4-.4-.92-.59-1.43-.59-.52 0-1.04.2-1.43.59L10.3 9.45l-7.72 7.72c-.78.78-.78 2.05 0 2.83L4 21.41c.39.39.9.59 1.41.59.51 0 1.02-.2 1.41-.59l7.78-7.78 2.81-2.81c.8-.78.8-2.07 0-2.86zM5.41 20L4 18.59l7.72-7.72 1.47 1.35L5.41 20z\"/>\n",
              "  </svg>\n",
              "      </button>\n",
              "      \n",
              "  <style>\n",
              "    .colab-df-container {\n",
              "      display:flex;\n",
              "      flex-wrap:wrap;\n",
              "      gap: 12px;\n",
              "    }\n",
              "\n",
              "    .colab-df-convert {\n",
              "      background-color: #E8F0FE;\n",
              "      border: none;\n",
              "      border-radius: 50%;\n",
              "      cursor: pointer;\n",
              "      display: none;\n",
              "      fill: #1967D2;\n",
              "      height: 32px;\n",
              "      padding: 0 0 0 0;\n",
              "      width: 32px;\n",
              "    }\n",
              "\n",
              "    .colab-df-convert:hover {\n",
              "      background-color: #E2EBFA;\n",
              "      box-shadow: 0px 1px 2px rgba(60, 64, 67, 0.3), 0px 1px 3px 1px rgba(60, 64, 67, 0.15);\n",
              "      fill: #174EA6;\n",
              "    }\n",
              "\n",
              "    [theme=dark] .colab-df-convert {\n",
              "      background-color: #3B4455;\n",
              "      fill: #D2E3FC;\n",
              "    }\n",
              "\n",
              "    [theme=dark] .colab-df-convert:hover {\n",
              "      background-color: #434B5C;\n",
              "      box-shadow: 0px 1px 3px 1px rgba(0, 0, 0, 0.15);\n",
              "      filter: drop-shadow(0px 1px 2px rgba(0, 0, 0, 0.3));\n",
              "      fill: #FFFFFF;\n",
              "    }\n",
              "  </style>\n",
              "\n",
              "      <script>\n",
              "        const buttonEl =\n",
              "          document.querySelector('#df-115cde45-d037-464d-8308-8053b002682c button.colab-df-convert');\n",
              "        buttonEl.style.display =\n",
              "          google.colab.kernel.accessAllowed ? 'block' : 'none';\n",
              "\n",
              "        async function convertToInteractive(key) {\n",
              "          const element = document.querySelector('#df-115cde45-d037-464d-8308-8053b002682c');\n",
              "          const dataTable =\n",
              "            await google.colab.kernel.invokeFunction('convertToInteractive',\n",
              "                                                     [key], {});\n",
              "          if (!dataTable) return;\n",
              "\n",
              "          const docLinkHtml = 'Like what you see? Visit the ' +\n",
              "            '<a target=\"_blank\" href=https://colab.research.google.com/notebooks/data_table.ipynb>data table notebook</a>'\n",
              "            + ' to learn more about interactive tables.';\n",
              "          element.innerHTML = '';\n",
              "          dataTable['output_type'] = 'display_data';\n",
              "          await google.colab.output.renderOutput(dataTable, element);\n",
              "          const docLink = document.createElement('div');\n",
              "          docLink.innerHTML = docLinkHtml;\n",
              "          element.appendChild(docLink);\n",
              "        }\n",
              "      </script>\n",
              "    </div>\n",
              "  </div>\n",
              "  "
            ]
          },
          "metadata": {},
          "execution_count": 31
        }
      ]
    },
    {
      "cell_type": "markdown",
      "source": [
        "Таким образом было найдено семь аномальных значений"
      ],
      "metadata": {
        "id": "hjkl7VCPP67x"
      }
    },
    {
      "cell_type": "markdown",
      "source": [
        "Выполним очистку данных: выберем те значения, которые попадают в указанный "
      ],
      "metadata": {
        "id": "DT-JQOLHQAHN"
      }
    },
    {
      "cell_type": "code",
      "source": [
        "ds_filter = ds[(ds.s2 >= A)&(ds.s2 <= B)]\n",
        "ds_filter"
      ],
      "metadata": {
        "colab": {
          "base_uri": "https://localhost:8080/",
          "height": 424
        },
        "id": "SSLIcP48QHos",
        "outputId": "f394ac84-7626-41ee-99d3-5b2af3684ff2"
      },
      "execution_count": 32,
      "outputs": [
        {
          "output_type": "execute_result",
          "data": {
            "text/plain": [
              "           s2\n",
              "0   -0.105114\n",
              "1    0.793212\n",
              "2   -1.030174\n",
              "3    1.576539\n",
              "4   -0.723648\n",
              "..        ...\n",
              "495 -0.620462\n",
              "496  1.760782\n",
              "497  0.047405\n",
              "498  0.265252\n",
              "499  1.626182\n",
              "\n",
              "[493 rows x 1 columns]"
            ],
            "text/html": [
              "\n",
              "  <div id=\"df-db6c5b57-b12e-42ab-8888-b79c3e2bfbd2\">\n",
              "    <div class=\"colab-df-container\">\n",
              "      <div>\n",
              "<style scoped>\n",
              "    .dataframe tbody tr th:only-of-type {\n",
              "        vertical-align: middle;\n",
              "    }\n",
              "\n",
              "    .dataframe tbody tr th {\n",
              "        vertical-align: top;\n",
              "    }\n",
              "\n",
              "    .dataframe thead th {\n",
              "        text-align: right;\n",
              "    }\n",
              "</style>\n",
              "<table border=\"1\" class=\"dataframe\">\n",
              "  <thead>\n",
              "    <tr style=\"text-align: right;\">\n",
              "      <th></th>\n",
              "      <th>s2</th>\n",
              "    </tr>\n",
              "  </thead>\n",
              "  <tbody>\n",
              "    <tr>\n",
              "      <th>0</th>\n",
              "      <td>-0.105114</td>\n",
              "    </tr>\n",
              "    <tr>\n",
              "      <th>1</th>\n",
              "      <td>0.793212</td>\n",
              "    </tr>\n",
              "    <tr>\n",
              "      <th>2</th>\n",
              "      <td>-1.030174</td>\n",
              "    </tr>\n",
              "    <tr>\n",
              "      <th>3</th>\n",
              "      <td>1.576539</td>\n",
              "    </tr>\n",
              "    <tr>\n",
              "      <th>4</th>\n",
              "      <td>-0.723648</td>\n",
              "    </tr>\n",
              "    <tr>\n",
              "      <th>...</th>\n",
              "      <td>...</td>\n",
              "    </tr>\n",
              "    <tr>\n",
              "      <th>495</th>\n",
              "      <td>-0.620462</td>\n",
              "    </tr>\n",
              "    <tr>\n",
              "      <th>496</th>\n",
              "      <td>1.760782</td>\n",
              "    </tr>\n",
              "    <tr>\n",
              "      <th>497</th>\n",
              "      <td>0.047405</td>\n",
              "    </tr>\n",
              "    <tr>\n",
              "      <th>498</th>\n",
              "      <td>0.265252</td>\n",
              "    </tr>\n",
              "    <tr>\n",
              "      <th>499</th>\n",
              "      <td>1.626182</td>\n",
              "    </tr>\n",
              "  </tbody>\n",
              "</table>\n",
              "<p>493 rows × 1 columns</p>\n",
              "</div>\n",
              "      <button class=\"colab-df-convert\" onclick=\"convertToInteractive('df-db6c5b57-b12e-42ab-8888-b79c3e2bfbd2')\"\n",
              "              title=\"Convert this dataframe to an interactive table.\"\n",
              "              style=\"display:none;\">\n",
              "        \n",
              "  <svg xmlns=\"http://www.w3.org/2000/svg\" height=\"24px\"viewBox=\"0 0 24 24\"\n",
              "       width=\"24px\">\n",
              "    <path d=\"M0 0h24v24H0V0z\" fill=\"none\"/>\n",
              "    <path d=\"M18.56 5.44l.94 2.06.94-2.06 2.06-.94-2.06-.94-.94-2.06-.94 2.06-2.06.94zm-11 1L8.5 8.5l.94-2.06 2.06-.94-2.06-.94L8.5 2.5l-.94 2.06-2.06.94zm10 10l.94 2.06.94-2.06 2.06-.94-2.06-.94-.94-2.06-.94 2.06-2.06.94z\"/><path d=\"M17.41 7.96l-1.37-1.37c-.4-.4-.92-.59-1.43-.59-.52 0-1.04.2-1.43.59L10.3 9.45l-7.72 7.72c-.78.78-.78 2.05 0 2.83L4 21.41c.39.39.9.59 1.41.59.51 0 1.02-.2 1.41-.59l7.78-7.78 2.81-2.81c.8-.78.8-2.07 0-2.86zM5.41 20L4 18.59l7.72-7.72 1.47 1.35L5.41 20z\"/>\n",
              "  </svg>\n",
              "      </button>\n",
              "      \n",
              "  <style>\n",
              "    .colab-df-container {\n",
              "      display:flex;\n",
              "      flex-wrap:wrap;\n",
              "      gap: 12px;\n",
              "    }\n",
              "\n",
              "    .colab-df-convert {\n",
              "      background-color: #E8F0FE;\n",
              "      border: none;\n",
              "      border-radius: 50%;\n",
              "      cursor: pointer;\n",
              "      display: none;\n",
              "      fill: #1967D2;\n",
              "      height: 32px;\n",
              "      padding: 0 0 0 0;\n",
              "      width: 32px;\n",
              "    }\n",
              "\n",
              "    .colab-df-convert:hover {\n",
              "      background-color: #E2EBFA;\n",
              "      box-shadow: 0px 1px 2px rgba(60, 64, 67, 0.3), 0px 1px 3px 1px rgba(60, 64, 67, 0.15);\n",
              "      fill: #174EA6;\n",
              "    }\n",
              "\n",
              "    [theme=dark] .colab-df-convert {\n",
              "      background-color: #3B4455;\n",
              "      fill: #D2E3FC;\n",
              "    }\n",
              "\n",
              "    [theme=dark] .colab-df-convert:hover {\n",
              "      background-color: #434B5C;\n",
              "      box-shadow: 0px 1px 3px 1px rgba(0, 0, 0, 0.15);\n",
              "      filter: drop-shadow(0px 1px 2px rgba(0, 0, 0, 0.3));\n",
              "      fill: #FFFFFF;\n",
              "    }\n",
              "  </style>\n",
              "\n",
              "      <script>\n",
              "        const buttonEl =\n",
              "          document.querySelector('#df-db6c5b57-b12e-42ab-8888-b79c3e2bfbd2 button.colab-df-convert');\n",
              "        buttonEl.style.display =\n",
              "          google.colab.kernel.accessAllowed ? 'block' : 'none';\n",
              "\n",
              "        async function convertToInteractive(key) {\n",
              "          const element = document.querySelector('#df-db6c5b57-b12e-42ab-8888-b79c3e2bfbd2');\n",
              "          const dataTable =\n",
              "            await google.colab.kernel.invokeFunction('convertToInteractive',\n",
              "                                                     [key], {});\n",
              "          if (!dataTable) return;\n",
              "\n",
              "          const docLinkHtml = 'Like what you see? Visit the ' +\n",
              "            '<a target=\"_blank\" href=https://colab.research.google.com/notebooks/data_table.ipynb>data table notebook</a>'\n",
              "            + ' to learn more about interactive tables.';\n",
              "          element.innerHTML = '';\n",
              "          dataTable['output_type'] = 'display_data';\n",
              "          await google.colab.output.renderOutput(dataTable, element);\n",
              "          const docLink = document.createElement('div');\n",
              "          docLink.innerHTML = docLinkHtml;\n",
              "          element.appendChild(docLink);\n",
              "        }\n",
              "      </script>\n",
              "    </div>\n",
              "  </div>\n",
              "  "
            ]
          },
          "metadata": {},
          "execution_count": 32
        }
      ]
    },
    {
      "cell_type": "markdown",
      "source": [
        "Подсчитаем количество отобранных данных"
      ],
      "metadata": {
        "id": "ZOXbCLI3Q67S"
      }
    },
    {
      "cell_type": "code",
      "source": [
        "print(\"Количество отобранных данных равно\", ds_filter.shape[0])"
      ],
      "metadata": {
        "colab": {
          "base_uri": "https://localhost:8080/"
        },
        "id": "0v915E6fQ_C_",
        "outputId": "ae7d48c9-53e9-4593-fc0a-b17b13650d13"
      },
      "execution_count": 33,
      "outputs": [
        {
          "output_type": "stream",
          "name": "stdout",
          "text": [
            "Количество отобранных данных равно 493\n"
          ]
        }
      ]
    },
    {
      "cell_type": "markdown",
      "source": [
        "# Заключение"
      ],
      "metadata": {
        "id": "stf_escqRPO0"
      }
    },
    {
      "cell_type": "markdown",
      "source": [
        "В работе был проведен отбор данных одномерной выборки, взятой из генеральной совокупности. Сначала с помощью диаграмм и тестов было установлено, что гипотеза о симметричности исследуемого показателя генеральной совокупности не противоречит выборочным данным. Исходя из этого для отбора данных использовался интервал ($\\overline{x}$ - 3s; $\\overline{x}$ + 3s), где $\\overline{x}$ - выборочное среднее, s - стандартное отклонение. Обнаружены 7 аномальных значений: элементы выборки с номерами 48, 110, 242, 343, 359, 365, 375, не попавшие в указанный интервал. Эти значения были удалены из выборки"
      ],
      "metadata": {
        "id": "u24RPRvXRTgk"
      }
    }
  ]
}